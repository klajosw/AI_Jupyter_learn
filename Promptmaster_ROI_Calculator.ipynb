{
  "cells": [
    {
      "cell_type": "code",
      "execution_count": 1,
      "metadata": {
        "id": "dta_dduy4qfd"
      },
      "outputs": [],
      "source": [
        "import math"
      ]
    },
    {
      "cell_type": "markdown",
      "metadata": {
        "id": "ebN6o1kb4xpl"
      },
      "source": [
        "The `_calculate_savings` function computes the time savings for automating a task. It uses two factors: Automation Potential `(AP)` and Complexity Factor `(CP)`. AP is calculated using the relative contributions of steps `(KS)` and tools `(KT)` with a given rate `r1`. CP takes into account the number of humans (KH) and adjusts using rate `r2`. The function then multiplies the original time to complete the task with AP and CP to get the potential time savings."
      ]
    },
    {
      "cell_type": "code",
      "execution_count": 2,
      "metadata": {
        "id": "MnYhmlsC4vR8"
      },
      "outputs": [],
      "source": [
        "def _calculate_savings(time_to_complete, KS, KT, KH, r1, r2):\n",
        "    AP = r1 * (KS / (KS + KT) + KT / (KS + KT))\n",
        "    CP = 1 - r2 * ((KH - 1) / KH)\n",
        "    savings_per_task_minutes = time_to_complete * AP * CP\n",
        "    return savings_per_task_minutes"
      ]
    },
    {
      "cell_type": "markdown",
      "metadata": {
        "id": "uscTi-BT69Bj"
      },
      "source": [
        "The `return_on_investment` function calculates potential time savings for a task when automated. It calls the `_calculate_savings` function, passing the time to complete the task, the number of steps, tools, and humans involved, along with two [predetermined benchmarked savings rates](https://promptmaster.notion.site/ROI-Calculation-Benchmarks-4045c601fd704922b41ccbf82c0ede49?pvs=4) `(0.18 and 0.38)`. The result is the amount of time `(in minutes)` that can be saved per task execution through automation.\n",
        "\n",
        "The code then calculates monthly time savings and the percentage reduction in time for a task when automated. The total_savings_per_month_minutes multiplies the time saved per task by the frequency the task is done monthly. The percentage_decrease determines the proportion of time saved for each task execution relative to the original completion time, represented as a percentage.\n",
        "\n",
        "Lastly returns a dictionary with two key-value pairs:\n",
        "\n",
        "\"percentage_decrease\": This key provides the percentage reduction in time for each task execution when automated. \"hours_saved_per_month\": This key indicates the total number of hours saved per month by automating the task, calculated by converting the saved minutes to hours."
      ]
    },
    {
      "cell_type": "code",
      "execution_count": null,
      "metadata": {
        "id": "TtAIVwAG68x7"
      },
      "outputs": [],
      "source": [
        "def return_on_investment(\n",
        "    number_of_steps,\n",
        "    number_of_tools,\n",
        "    number_of_humans,\n",
        "    frequency_per_month,\n",
        "    time_to_complete_minutes\n",
        ") -> dict[str:float]:\n",
        "\n",
        "    savings_per_task_minutes = _calculate_savings(\n",
        "        time_to_complete_minutes,\n",
        "        number_of_steps,\n",
        "        number_of_tools,\n",
        "        number_of_humans,\n",
        "        0.18,  # min_benchmarked_savings_rate\n",
        "        0.38   # max_benchmarked_savings_rate\n",
        "    )\n",
        "\n",
        "    total_savings_per_month_minutes = savings_per_task_minutes * frequency_per_month\n",
        "    percentage_decrease = (savings_per_task_minutes / time_to_complete_minutes) * 100\n",
        "\n",
        "    return {\n",
        "        \"percentage_decrease\": percentage_decrease,\n",
        "        \"hours_saved_per_month\": total_savings_per_month_minutes / 60\n",
        "    }"
      ]
    },
    {
      "cell_type": "markdown",
      "metadata": {
        "id": "8GiVyCzk7Gb4"
      },
      "source": [
        "The main function guides the user through a series of prompts to gather data about a specific task:\n",
        "\n",
        "It asks for the number of steps involved in the task.\n",
        "\n",
        "* It inquires about the number of tools or equipment used for the task.\n",
        "* It requests the number of humans required to perform the task.\n",
        "* It asks how frequently the task is performed each month.\n",
        "* It prompts for the average duration `(in minutes)` to complete the task.\n",
        "* After collecting these inputs, the function calls return_on_investment to calculate the potential savings when automating the task.\n",
        "\n",
        "\n",
        "Then the function computes:\n",
        "\n",
        "`total_hours_original`: The total hours spent on the task each month without automation.\n",
        "`total_hours_new`: The estimated total hours that would be spent on the task each month after automation. This is obtained by subtracting the hours saved `(due to automation)` from the original monthly hours.\n",
        "\n",
        "Once complete, the code provides a summary of the time spent on a task and potential savings from automation. It displays the current time taken for the task, monthly total hours, and potential reductions using AI. Running the script prompts the user for task details and then presents these insights."
      ]
    },
    {
      "cell_type": "code",
      "execution_count": null,
      "metadata": {
        "colab": {
          "base_uri": "https://localhost:8080/"
        },
        "id": "st4rjCpa7Gt2",
        "outputId": "18f0aa09-7f93-486b-f8f7-a4297e26760d"
      },
      "outputs": [
        {
          "output_type": "stream",
          "name": "stdout",
          "text": [
            "Enter the number of steps involved in the task.\n",
            "This refers to the total steps needed to complete the task.\n",
            "3\n",
            "Enter the number of tools used in the task.\n",
            "This refers to the total tools or equipment used to perform the task.\n",
            "2\n",
            "Enter the number of humans required to perform the task.\n",
            "This refers to the manpower needed to complete the task.\n",
            "4\n",
            "Enter the frequency per month of the task.\n",
            "This is the number of times the task is performed in a month.\n",
            "15\n",
            "Enter the time (in minutes) taken to complete the task.\n",
            "This is the average duration required to finish the task.\n",
            "70\n",
            "This task currently takes 1.17 hours to complete and since the team has to do it 15 times per month, it eats up a total of 17.50 hours.\n",
            "However, if you use ChatGPT (and potentially other AI tools) to complete this task, you could do this 12.87% faster, meaning your team would need to spend 15.25 hours on it (2.25 hours less) every month.\n"
          ]
        }
      ],
      "source": [
        "def main():\n",
        "    print(\"Enter the number of steps involved in the task.\")\n",
        "    print(\"This refers to the total steps needed to complete the task.\")\n",
        "    number_of_steps = int(input())\n",
        "\n",
        "    print(\"Enter the number of tools used in the task.\")\n",
        "    print(\"This refers to the total tools or equipment used to perform the task.\")\n",
        "    number_of_tools = int(input())\n",
        "\n",
        "    print(\"Enter the number of humans required to perform the task.\")\n",
        "    print(\"This refers to the manpower needed to complete the task.\")\n",
        "    number_of_humans = int(input())\n",
        "\n",
        "    print(\"Enter the frequency per month of the task.\")\n",
        "    print(\"This is the number of times the task is performed in a month.\")\n",
        "    frequency_per_month = int(input())\n",
        "\n",
        "    print(\"Enter the time (in minutes) taken to complete the task.\")\n",
        "    print(\"This is the average duration required to finish the task.\")\n",
        "    time_to_complete_minutes = float(input())\n",
        "\n",
        "    results = return_on_investment(\n",
        "        number_of_steps,\n",
        "        number_of_tools,\n",
        "        number_of_humans,\n",
        "        frequency_per_month,\n",
        "        time_to_complete_minutes\n",
        "    )\n",
        "\n",
        "    total_hours_original = (time_to_complete_minutes / 60) * frequency_per_month\n",
        "    total_hours_new = total_hours_original - results['hours_saved_per_month']\n",
        "\n",
        "    print(f\"This task currently takes {time_to_complete_minutes / 60:.2f} hours to complete and since the team has to do it {frequency_per_month} times per month, it eats up a total of {total_hours_original:.2f} hours.\")\n",
        "    print(f\"However, if you use ChatGPT (and potentially other AI tools) to complete this task, you could do this {results['percentage_decrease']:.2f}% faster, meaning your team would need to spend {total_hours_new:.2f} hours on it ({results['hours_saved_per_month']:.2f} hours less) every month.\")\n",
        "\n",
        "if __name__ == \"__main__\":\n",
        "    main()"
      ]
    },
    {
      "cell_type": "markdown",
      "metadata": {
        "id": "vB9XH31X68fK"
      },
      "source": [
        "...aaaand that's a wrap!\n",
        "\n",
        "Every time you need to calculate savings for a specific task, run this code, and you're good."
      ]
    }
  ],
  "metadata": {
    "colab": {
      "provenance": []
    },
    "kernelspec": {
      "display_name": "Python 3",
      "name": "python3"
    },
    "language_info": {
      "name": "python"
    }
  },
  "nbformat": 4,
  "nbformat_minor": 0
}