{
  "cells": [
    {
      "cell_type": "markdown",
      "metadata": {
        "id": "Hafsjw4f6A7y"
      },
      "source": [
        "#<font color=yellow>***Zoom Video Composer***\n",
        "This notebook automatically creates videos from a set of zoom in & zoom out images, from Midjourney, Stable Diffusion, or any other source.\n",
        "\n",
        "&#10148; Youtube Video Guide: https://youtu.be/nIJV_c-hKuw <br>\n",
        "![YoutubeVideo](http://i3.ytimg.com/vi/nIJV_c-hKuw/hqdefault.jpg)\n",
        "\n",
        "&#10148; Thanks to the original creator: https://github.com/mwydmuch/ZoomVideoComposer\n",
        "\n",
        "&#10148; Original Reddit Post: https://www.reddit.com/r/midjourney/comments/14jdj2y/scripttool_for_creating_zoom_outin_videos_just_in/"
      ]
    },
    {
      "cell_type": "markdown",
      "metadata": {
        "id": "CWgXjySa5qeq"
      },
      "source": [
        "# <font color=yellow>***Install Prerequisites***</font>"
      ]
    },
    {
      "cell_type": "code",
      "execution_count": null,
      "metadata": {
        "id": "J17lFaAznFxw"
      },
      "outputs": [],
      "source": [
        "# Clone Zoom Video Composer and enter ZoomVideoComposerDirectory\n",
        "!git clone https://github.com/mwydmuch/ZoomVideoComposer\n",
        "%cd ZoomVideoComposer\n",
        "# Setup environment\n",
        "!pip install -r requirements.txt\n",
        "!pip install --ignore-installed Pillow==9.3.0"
      ]
    },
    {
      "cell_type": "markdown",
      "metadata": {
        "id": "NEmXqBS852gL"
      },
      "source": [
        "# <font color=yellow>***Upload Your Images From Your Desktop***\n",
        "\n",
        "If you have more 10 or more images, to maintain the order of the uploaded images, put an extra 0 in front of the single digit image numbers.\n",
        "\n",
        "For example: <br>\n",
        "image_<font color=green>01</font>.png, image_<font color=green>02</font>.png, image_<font color=green>03</font>.png, ..... image_<font color=green>10</font>.png"
      ]
    },
    {
      "cell_type": "code",
      "execution_count": null,
      "metadata": {
        "id": "ZJpJDobfn3eW"
      },
      "outputs": [],
      "source": [
        "import os\n",
        "from google.colab import files\n",
        "import shutil\n",
        "\n",
        "upload_folder = 'upload'\n",
        "result_folder = 'results'\n",
        "\n",
        "if os.path.isdir(upload_folder):\n",
        "    shutil.rmtree(upload_folder)\n",
        "if os.path.isdir(result_folder):\n",
        "    shutil.rmtree(result_folder)\n",
        "os.mkdir(upload_folder)\n",
        "os.mkdir(result_folder)\n",
        "\n",
        "# upload images\n",
        "uploaded = files.upload()\n",
        "for filename in uploaded.keys():\n",
        "  dst_path = os.path.join(upload_folder, filename)\n",
        "  print(f'move {filename} to {dst_path}')\n",
        "  shutil.move(filename, dst_path)"
      ]
    },
    {
      "cell_type": "markdown",
      "metadata": {
        "id": "3QJWVI5e3mXS"
      },
      "source": [
        "# <font color=yellow>***Run The Zoom Video Composer***\n",
        "This may take a minute so be patient. A 10 second video takes around 3 minutes for me.\n",
        "\n",
        "## ***Important Parameters:***  <br>\n",
        "&#10148; $\\;\\;\\;$ <font color=lightblue>--zoom</font> : zoom factor between images <br>\n",
        "$\\;\\;\\;\\;\\;\\;$ &#10148; <font color=green>Zoom Out 1.5x</font> button in Midjourney is currently bugged and uses another zoom factor than --zoom 1.5.  <br>\n",
        "$\\;\\;\\;\\;\\;\\;$ To create an animation from images created with this button, use <font color=green>-z 1.3333</font> argument for the script. <br>\n",
        "&#10148; $\\;\\;\\;$ <font color=lightblue>--duration</font> : length of the video in seconds <br>\n",
        "&#10148; $\\;\\;\\;$ <font color=lightblue>--height</font>   : height in pixels <br>\n",
        "&#10148; $\\;\\;\\;$ <font color=lightblue>--width</font>   : width in pixels <br>\n",
        "&#10148; $\\;\\;\\;$ <font color=lightblue>--direction</font> : Zoom direction <br>\n",
        "$\\;\\;\\;\\;\\;\\;$ &#10148; <font color=lightblue>in</font>    -> zoom in <br>\n",
        "$\\;\\;\\;\\;\\;\\;$ &#10148; <font color=lightblue>out</font>   -> zoom out <br>\n",
        "$\\;\\;\\;\\;\\;\\;$ &#10148; <font color=lightblue>inout</font> -> zoom in and the out <br>\n",
        "$\\;\\;\\;\\;\\;\\;$ &#10148; <font color=lightblue>outin</font> -> zoom out and then in <br>\n",
        "\n",
        "\n",
        "Refer to https://github.com/mwydmuch/ZoomVideoComposer if you want to see the full list of parameters and what they do."
      ]
    },
    {
      "cell_type": "code",
      "execution_count": null,
      "metadata": {
        "id": "Ak5fDY7Dpwkt"
      },
      "outputs": [],
      "source": [
        "# run the zoom video composer\n",
        "'''\n",
        "PARAMETERS\n",
        "--zoom     : zoom factor between images\n",
        "--duration : length of the video in seconds\n",
        "--height   : height of the video in pixels\n",
        "--width    : width of the video in pixels\n",
        "--direction: Zoom direction. Inout and outin combine both directions.\n",
        "             options -> [\"in\", \"out\", \"inout\", \"outin\"]\n",
        "'''\n",
        "\n",
        "!python zoom_video_composer.py upload \\\n",
        "--output results/zoom.mp4 \\\n",
        "--zoom 2.0 \\\n",
        "--duration 10.0 \\\n",
        "--height 896 \\\n",
        "--width 1344 \\\n",
        "--direction outin"
      ]
    },
    {
      "cell_type": "markdown",
      "metadata": {
        "id": "9O2W-2iY3iHS"
      },
      "source": [
        "# <font color=yellow>***Play the Zoom Video!***"
      ]
    },
    {
      "cell_type": "code",
      "execution_count": null,
      "metadata": {
        "colab": {
          "background_save": true
        },
        "id": "fwBYDvPbwZYi"
      },
      "outputs": [],
      "source": [
        "# play the zoom video!\n",
        "\n",
        "from IPython.display import HTML\n",
        "from base64 import b64encode\n",
        "mp4 = open('results/zoom.mp4','rb').read()\n",
        "data_url = \"data:video/mp4;base64,\" + b64encode(mp4).decode()\n",
        "HTML(\"\"\"\n",
        "<video width=400 controls>\n",
        "      <source src=\"%s\" type=\"video/mp4\">\n",
        "</video>\n",
        "\"\"\" % data_url)"
      ]
    },
    {
      "cell_type": "markdown",
      "metadata": {
        "id": "5pGcuAeR3bI3"
      },
      "source": [
        "#<font color=yellow>***Download the Zoom Video!***"
      ]
    },
    {
      "cell_type": "code",
      "execution_count": null,
      "metadata": {
        "colab": {
          "base_uri": "https://localhost:8080/",
          "height": 17
        },
        "id": "SLGUZXMz1JMH",
        "outputId": "06c7a944-4928-40c9-e7fb-62202a7b85a3"
      },
      "outputs": [
        {
          "data": {
            "application/javascript": [
              "\n",
              "    async function download(id, filename, size) {\n",
              "      if (!google.colab.kernel.accessAllowed) {\n",
              "        return;\n",
              "      }\n",
              "      const div = document.createElement('div');\n",
              "      const label = document.createElement('label');\n",
              "      label.textContent = `Downloading \"${filename}\": `;\n",
              "      div.appendChild(label);\n",
              "      const progress = document.createElement('progress');\n",
              "      progress.max = size;\n",
              "      div.appendChild(progress);\n",
              "      document.body.appendChild(div);\n",
              "\n",
              "      const buffers = [];\n",
              "      let downloaded = 0;\n",
              "\n",
              "      const channel = await google.colab.kernel.comms.open(id);\n",
              "      // Send a message to notify the kernel that we're ready.\n",
              "      channel.send({})\n",
              "\n",
              "      for await (const message of channel.messages) {\n",
              "        // Send a message to notify the kernel that we're ready.\n",
              "        channel.send({})\n",
              "        if (message.buffers) {\n",
              "          for (const buffer of message.buffers) {\n",
              "            buffers.push(buffer);\n",
              "            downloaded += buffer.byteLength;\n",
              "            progress.value = downloaded;\n",
              "          }\n",
              "        }\n",
              "      }\n",
              "      const blob = new Blob(buffers, {type: 'application/binary'});\n",
              "      const a = document.createElement('a');\n",
              "      a.href = window.URL.createObjectURL(blob);\n",
              "      a.download = filename;\n",
              "      div.appendChild(a);\n",
              "      a.click();\n",
              "      div.remove();\n",
              "    }\n",
              "  "
            ],
            "text/plain": [
              "<IPython.core.display.Javascript object>"
            ]
          },
          "metadata": {},
          "output_type": "display_data"
        },
        {
          "data": {
            "application/javascript": [
              "download(\"download_ba686f7a-2467-4281-85cb-ae846a9aa6e3\", \"zoom.mp4\", 2404793)"
            ],
            "text/plain": [
              "<IPython.core.display.Javascript object>"
            ]
          },
          "metadata": {},
          "output_type": "display_data"
        }
      ],
      "source": [
        "# download the video!\n",
        "files.download('results/zoom.mp4')"
      ]
    }
  ],
  "metadata": {
    "colab": {
      "provenance": []
    },
    "kernelspec": {
      "display_name": "Python 3",
      "name": "python3"
    },
    "language_info": {
      "name": "python"
    }
  },
  "nbformat": 4,
  "nbformat_minor": 0
}