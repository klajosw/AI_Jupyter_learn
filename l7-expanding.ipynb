{
 "cells": [
  {
   "cell_type": "markdown",
   "id": "8de529e8-3891-4f47-8585-65b92b80bbf7",
   "metadata": {},
   "source": [
    "# Bővülés, kiterjesztés\n",
    "\n",
    "Ebben a leckében ügyfélszolgálati e-maileket fog generálni, amelyek az egyes ügyfelek véleményéhez vannak szabva.\n",
    "\n",
    "## Beállítások"
   ]
  },
  {
   "cell_type": "code",
   "execution_count": 1,
   "id": "e23399a9",
   "metadata": {
    "height": 149
   },
   "outputs": [],
   "source": [
    "import openai\n",
    "import os\n",
    "\n",
    "from dotenv import load_dotenv, find_dotenv\n",
    "_ = load_dotenv(find_dotenv()) # read local .env file\n",
    "\n",
    "openai.api_key  = os.getenv('OPENAI_API_KEY')"
   ]
  },
  {
   "cell_type": "code",
   "execution_count": 2,
   "id": "4c943900-98db-40b3-b639-7822ee2c5fd8",
   "metadata": {
    "height": 166
   },
   "outputs": [],
   "source": [
    "def get_completion(prompt, model=\"gpt-3.5-turbo\",temperature=0): # Andrew mentioned that the prompt/ completion paradigm is preferable for this class\n",
    "    messages = [{\"role\": \"user\", \"content\": prompt}]\n",
    "    response = openai.ChatCompletion.create(\n",
    "        model=model,\n",
    "        messages=messages,\n",
    "        temperature=temperature, # this is the degree of randomness of the model's output\n",
    "    )\n",
    "    return response.choices[0].message[\"content\"]"
   ]
  },
  {
   "cell_type": "markdown",
   "id": "f8ceea77-990a-4c64-bb49-3ba65eb155d2",
   "metadata": {},
   "source": [
    "## Testreszabhatja az ügyfél e-mailjére adott automatikus választ"
   ]
  },
  {
   "cell_type": "code",
   "execution_count": 3,
   "id": "c30c4239",
   "metadata": {
    "height": 659
   },
   "outputs": [],
   "source": [
    "# given the sentiment from the lesson on \"inferring\",\n",
    "# and the original customer message, customize the email\n",
    "sentiment = \"negatív\"\n",
    "\n",
    "# review for a blender\n",
    "review = f\"\"\"\n",
    "Tehát továbbra is a 17 darabos rendszer volt a szezonális \\\n",
    "november hónapban körülbelül 49 dollárért eladó, kb.\n",
    "félig olcsóbban, de valamiért (nevezzük árkivágásnak) \\\n",
    "december második hetében az árak mind elmentek \\\n",
    "akár 70 és 89 dollár között ugyanazért \\\n",
    "rendszer. És a 11 darabos rendszer körülbelül 10 dollárt vagy \\\n",
    "tehát árban is a korábbi 29 dolláros eladási árból. \\\n",
    "Szóval jól néz ki, de ha az alapot nézed, akkor a rész \\\n",
    "ahol a penge a helyére kattan, nem néz ki olyan jól \\\n",
    "mint a korábbi, néhány évvel ezelőtti kiadásokban, de én \\\n",
    "nagyon gyengéd leszek vele (például összetöröm \\\n",
    "nagyon kemény tárgyak, például bab, jég, rizs stb. a \\\n",
    "először turmixgépben, majd porrá törjük őket adag méretben \\\n",
    "A turmixgépbe akarok majd váltani a habverésre \\\n",
    "pengét finomabb liszthez, és használja a keresztvágó pengét \\\n",
    "először turmix készítésnél, majd a lapos pengét használd \\\n",
    "ha finomabbra/kevésbé pépesebbre van szükségem). Különleges tipp készítéskor \\\n",
    "turmixokat, finomra vágva és lefagyasztva a gyümölcsöt és \\\n",
    "zöldségek (ha spenótot használunk-enyhén pörkölt lágyítsa meg a \\\n",
    "a spenótot, majd lefagyasztjuk felhasználásig – és ha elkészítjük \\\n",
    "sorbet, használjon kis és közepes méretű robotgépet) \\\n",
    "amelyet így kíván használni, elkerülheti, hogy így \\\n",
    "sok jég, ha egyáltalán – a turmix elkészítésekor. \\\n",
    "Körülbelül egy év múlva a motor vicces hangot adott. \\\n",
    "Felhívtam az ügyfélszolgálatot, de lejárt a garancia \\\n",
    "már, ezért kellett vennem egy másikat. Tájékoztatásul: az általános \\\n",
    "az ilyen típusú termékek minősége megszűnt, így \\\n",
    "valahogy számítanak a márka felismerésére és \\\n",
    "fogyasztói hűség az eladások fenntartásához. kb. \\\n",
    "két nap.\n",
    "\"\"\""
   ]
  },
  {
   "cell_type": "code",
   "execution_count": 4,
   "id": "d5403f73",
   "metadata": {
    "height": 319
   },
   "outputs": [
    {
     "name": "stdout",
     "output_type": "stream",
     "text": [
      "Tisztelt Ügyfelünk,\n",
      "\n",
      "Köszönjük, hogy megosztotta velünk a tapasztalatait a termékünkkel kapcsolatban. Sajnáljuk, hogy elégedetlen volt a termék minőségével és a motor hangjával kapcsolatban.\n",
      "\n",
      "Szeretnénk elnézést kérni az okozott kellemetlenségért. Javasoljuk, hogy vegye fel a kapcsolatot az ügyfélszolgálatunkkal, hogy segítséget kapjon a probléma megoldásához.\n",
      "\n",
      "Köszönjük, hogy megosztotta velünk a részleteket, és reméljük, hogy a jövőben jobb tapasztalatokat nyújthatunk Önnek.\n",
      "\n",
      "Üdvözlettel,\n",
      "AI ügyfélügynökként\n"
     ]
    }
   ],
   "source": [
    "prompt = f\"\"\"\n",
    "Ön ügyfélszolgálati AI-asszisztens.\n",
    "Az Ön feladata, hogy e-mailben választ küldjön egy értékes ügyfélnek.\n",
    "Adott az ügyfél e-mail-címe, amelyet ```, \\\n",
    "Hozzon létre egy választ, hogy megköszönje az ügyfél véleményét.\n",
    "Ha a hangulat pozitív vagy semleges, köszönje meg nekik, hogy \\\n",
    "áttekintésük.\n",
    "Ha az érzés negatív, kérj bocsánatot, és javasold, hogy \\\n",
    "megkereshetik az ügyfélszolgálatot.\n",
    "Ügyeljen arra, hogy a vélemény konkrét részleteit használja.\n",
    "Írjon tömör és szakszerű hangnemben.\n",
    "Írja alá az e-mailt \"AI ügyfélügynökként\".\n",
    "Felhasználói értékelés: ```{review}```\n",
    "A hangulat áttekintése: {sentiment}\n",
    "\"\"\"\n",
    "response = get_completion(prompt)\n",
    "print(response)"
   ]
  },
  {
   "cell_type": "markdown",
   "id": "55605ee0-118c-4c46-a917-4981a43fcad3",
   "metadata": {},
   "source": [
    "## Emlékeztesd a modellt, hogy használja az ügyfél e-mailjéből származó adatokat"
   ]
  },
  {
   "cell_type": "code",
   "execution_count": 5,
   "id": "1d5ea7c8",
   "metadata": {
    "height": 319
   },
   "outputs": [
    {
     "name": "stdout",
     "output_type": "stream",
     "text": [
      "Tisztelt Ügyfelünk,\n",
      "\n",
      "Köszönjük, hogy megosztotta velünk tapasztalatait termékünkkel kapcsolatban. Sajnáljuk hallani, hogy nem volt elégedett a termék minőségével és a motor működésével kapcsolatban.\n",
      "\n",
      "Szeretnénk elnézést kérni az okozott kellemetlenségért. Az észrevételei nagyon fontosak számunkra, és továbbítjuk a fejlesztő csapatunknak, hogy javítsunk a termék minőségén és megbízhatóságán.\n",
      "\n",
      "Ha bármilyen további kérdése van vagy segítségre van szüksége, kérjük, ne habozzon kapcsolatba lépni ügyfélszolgálatunkkal. Örömmel állunk rendelkezésére.\n",
      "\n",
      "Köszönjük, hogy megosztotta velünk a tapasztalatait, nagyra értékeljük véleményét.\n",
      "\n",
      "Üdvözlettel,\n",
      "\n",
      "AI ügyfélügynökként\n"
     ]
    }
   ],
   "source": [
    "prompt = f\"\"\"\n",
    "Ön ügyfélszolgálati AI-asszisztens.\n",
    "Az Ön feladata, hogy e-mailben választ küldjön egy értékes ügyfélnek.\n",
    "Adott az ügyfél e-mail-címe, amelyet ```, \\\n",
    "Hozzon létre egy választ, hogy megköszönje az ügyfél véleményét.\n",
    "Ha a hangulat pozitív vagy semleges, köszönje meg nekik, hogy \\\n",
    "áttekintésük.\n",
    "Ha az érzés negatív, kérj bocsánatot, és javasold, hogy \\\n",
    "megkereshetik az ügyfélszolgálatot.\n",
    "Ügyeljen arra, hogy a vélemény konkrét részleteit használja.\n",
    "Írjon tömör és szakszerű hangnemben.\n",
    "Írja alá az e-mailt \"AI ügyfélügynökként\".\n",
    "Felhasználói értékelés: ```{review}```\n",
    "A hangulat áttekintése: {sentiment}\n",
    "\"\"\"\n",
    "response = get_completion(prompt, temperature=0.7)\n",
    "print(response)"
   ]
  },
  {
   "cell_type": "markdown",
   "id": "31e317ad-9e51-4e7a-90c3-d88e7bf8a98c",
   "metadata": {},
   "source": [
    "## Try experimenting on your own!"
   ]
  },
  {
   "cell_type": "code",
   "execution_count": null,
   "id": "ffa65c7e",
   "metadata": {
    "height": 30
   },
   "outputs": [],
   "source": []
  }
 ],
 "metadata": {
  "kernelspec": {
   "display_name": "Python 3 (ipykernel)",
   "language": "python",
   "name": "python3"
  },
  "language_info": {
   "codemirror_mode": {
    "name": "ipython",
    "version": 3
   },
   "file_extension": ".py",
   "mimetype": "text/x-python",
   "name": "python",
   "nbconvert_exporter": "python",
   "pygments_lexer": "ipython3",
   "version": "3.9.16"
  }
 },
 "nbformat": 4,
 "nbformat_minor": 5
}
