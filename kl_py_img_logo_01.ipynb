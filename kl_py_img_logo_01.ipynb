{
 "cells": [
  {
   "cell_type": "markdown",
   "metadata": {},
   "source": [
    "\n",
    "# IMG állományok szerkesztése\n",
    "\n",
    "## Használt csomagok : \n",
    "* PIL\n",
    "* os\n",
    "* datetime\n",
    "* time\n",
    "\n",
    "\n",
    "---"
   ]
  },
  {
   "cell_type": "code",
   "execution_count": 1,
   "metadata": {
    "scrolled": false
   },
   "outputs": [
    {
     "name": "stdout",
     "output_type": "stream",
     "text": [
      "-----------------------\n",
      "48.762489795684814  másodperc alatt futott le.\n"
     ]
    }
   ],
   "source": [
    "import os\n",
    "import datetime\n",
    "import time\n",
    "from PIL import Image, ExifTags\n",
    "\n",
    "kezdo = time.time()      ## futás kezdő idő\n",
    "\n",
    "## indítási könyvtár megadása\n",
    "dir_munka = r'c:\\Users\\User\\Documents\\kl\\ai_kep_kl' +'\\\\'\n",
    "dir_tmp   = 'kl84'\n",
    "# c:\\Users\\User\\Documents\\kl\\ai_kep_kl\\ai_kepek\\kl4\\\n",
    "\n",
    "ut = dir_munka + dir_tmp    ## könyvtár összerakása\n",
    "os.chdir(ut)                ## Munkakönyvtár beállítása\n",
    "\n",
    "files = filter(os.path.isfile, os.listdir(ut))  ## beolvasás\n",
    "files = [os.path.join(ut, f) for f in files]    ## add path to each file\n",
    "files.sort(key=lambda x: os.path.getmtime(x))   ## rendezés idő szerint\n",
    "# print(os.getcwd())        ## Munkakönyvtár helyének kiíratása\n",
    "\n",
    "img2 = Image.open(r\"c:\\Users\\User\\Documents\\kl\\kl_mie.jpg\"); ## logo képfile helye\n",
    "\n",
    "# ha nincs kesz könyvtár, akkor létrehozzás\n",
    "dir_kesz = os.path.join(ut, 'kesz')\n",
    "if not os.path.exists(dir_kesz):\n",
    "    os.makedirs(dir_kesz)\n",
    "#    os.mkdir(dir_kesz)\n",
    "\n",
    "\n",
    "## dátum átalakítás\n",
    "def ts_to_dt(ts):\n",
    "    return datetime.datetime.fromtimestamp(ts)\n",
    "\n",
    "## képek összefüzése\n",
    "def get_concat_h(im1, im2):\n",
    "    dst = Image.new('RGB', (im1.width , im1.height))\n",
    "    dst.paste(im1, (0, 0))\n",
    "    dst.paste(im2, (0,im1.height -61))\n",
    "    return dst\n",
    "\n",
    "\n",
    "## fő száll\n",
    "sorszam = 9000\n",
    "\n",
    "#with os.scandir(ut) as i:\n",
    "#    for entry in i:        \n",
    "#        if entry.is_file():\n",
    "for entry in files:        \n",
    "#            print(entry)\n",
    "            sorszam = sorszam + 1\n",
    "            img1 = Image.open(str(entry))\n",
    "#            print(entry.name)\n",
    "            exif = img1.getexif()\n",
    "            exif[37510] = \"------>  This is an image I generated\"\n",
    "            exif[33432] = \"http://mierdekel.hu || mierdekel@gmail.com\"\n",
    "            exif[315] = \"klajosw@gmail.com\"\n",
    "            exif[270] = \"This is an image I generated\"\n",
    "            img3 = get_concat_h(img1, img2)\n",
    "            f_nev_all = ut + '\\\\kesz\\\\' + 'kl_mie_'+ dir_tmp + '_' +  str(sorszam) + '.jpg'\n",
    "#            print(entry.name, f_nev_all)\n",
    "            img3.save(f_nev_all, exif=exif)\n",
    "       \n",
    "print('-----------------------')\n",
    "print (time.time() - kezdo, \" másodperc alatt futott le.\")"
   ]
  },
  {
   "cell_type": "code",
   "execution_count": 57,
   "metadata": {},
   "outputs": [],
   "source": [
    "from PIL import Image\n",
    "im = Image.open(r\"c:\\Users\\kecskemetil\\Documents\\sj\\ai_gen_kepek\\bing\\ai_ember\\kesz\\kl_mie_kesz1.jpg\")\n",
    "exif = im.getexif()\n",
    "exif[37510] = \"------>  This is an image I generated\"\n",
    "exif[33432] = \"http://mierdekel.hu || mierdekel@gmail.com\"\n",
    "exif[315] = \"klajosw@gmail.com\"\n",
    "exif[270] = \"This is an image I generated\"\n",
    "im.save(\"out.jpg\", exif=exif)\n",
    "kl_inf01 = '''\n",
    "tag_name_to_id[270] = 'ImageDescription'\n",
    "tag_name_to_id[306] = 'DateTime'\n",
    "tag_name_to_id[256] = 'ImageWidth'\n",
    "tag_name_to_id[257] = 'ImageLength'\n",
    "tag_name_to_id[258] = 'BitsPerSample'\n",
    "tag_name_to_id[40962] = 'PixelXDimension'\n",
    "tag_name_to_id[40963] = 'PixelYDimension'\n",
    "tag_name_to_id[305] = 'Software'\n",
    "tag_name_to_id[37510] = 'UserComment'\n",
    "tag_name_to_id[40091] = 'XPTitle'\n",
    "tag_name_to_id[40092] = 'XPComment'\n",
    "tag_name_to_id[40093] = 'XPAuthor'\n",
    "tag_name_to_id[40094] = 'XPKeywords'\n",
    "tag_name_to_id[40095] = 'XPSubject'\n",
    "tag_name_to_id[40961] = 'ColorSpace' # Bit depth\n",
    "tag_name_to_id[315] = 'Artist'\n",
    "tag_name_to_id[33432] = 'Copyright'\n",
    "'''"
   ]
  },
  {
   "cell_type": "code",
   "execution_count": null,
   "metadata": {},
   "outputs": [],
   "source": []
  }
 ],
 "metadata": {
  "kernelspec": {
   "display_name": "Python 3",
   "language": "python",
   "name": "python3"
  },
  "language_info": {
   "codemirror_mode": {
    "name": "ipython",
    "version": 3
   },
   "file_extension": ".py",
   "mimetype": "text/x-python",
   "name": "python",
   "nbconvert_exporter": "python",
   "pygments_lexer": "ipython3",
   "version": "3.8.8"
  }
 },
 "nbformat": 4,
 "nbformat_minor": 4
}
